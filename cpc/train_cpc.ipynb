{
 "cells": [
  {
   "cell_type": "code",
   "execution_count": null,
   "metadata": {},
   "outputs": [],
   "source": [
    "import sys\n",
    "\n",
    "import madgrad\n",
    "import matplotlib.pyplot as plt\n",
    "import numpy as np\n",
    "import pandas as pd\n",
    "import torch\n",
    "\n",
    "from model import ConvCPC"
   ]
  },
  {
   "cell_type": "code",
   "execution_count": null,
   "metadata": {},
   "outputs": [],
   "source": [
    "device = \"cuda:1\""
   ]
  },
  {
   "cell_type": "code",
   "execution_count": null,
   "metadata": {},
   "outputs": [],
   "source": [
    "latents = torch.load(\"/storage/mi/jennyonline/data/latents_videos.pt\")\n",
    "model_path = \"/storage/mi/jennyonline/data/cpc.pt\"\n",
    "\n",
    "num_samples, num_timesteps, num_features = latents.shape\n",
    "\n",
    "num_embeddings = 256\n",
    "num_context = 128\n",
    "num_ahead = 16\n",
    "num_ahead_subsampling = 1\n",
    "\n",
    "learning_rate = 0.001\n",
    "weight_decay = 1e-5\n",
    "\n",
    "num_batches = 10000\n",
    "batch_size = 128"
   ]
  },
  {
   "cell_type": "code",
   "execution_count": null,
   "metadata": {},
   "outputs": [],
   "source": [
    "model = ConvCPC(\n",
    "    num_features,\n",
    "    num_embeddings,\n",
    "    num_context,\n",
    "    num_ahead,\n",
    "    num_ahead_subsampling,\n",
    "    subsample_length=num_timesteps,\n",
    "    embedder_params={\"num_residual_blocks_pre\": 6, \"num_residual_blocks\": 0},\n",
    "    contexter_params={\"num_residual_blocks\": 4, \"kernel_size\": 3},\n",
    ").to(device)\n",
    "optimizer = madgrad.MADGRAD(model.parameters(), lr=learning_rate, weight_decay=weight_decay)"
   ]
  },
  {
   "cell_type": "code",
   "execution_count": null,
   "metadata": {},
   "outputs": [],
   "source": [
    "losses = []"
   ]
  },
  {
   "cell_type": "code",
   "execution_count": null,
   "metadata": {},
   "outputs": [],
   "source": [
    "for _ in range(num_batches - len(losses)):\n",
    "    optimizer.zero_grad()\n",
    "\n",
    "    batch_idxs = np.random.randint(0, num_samples, size=batch_size)\n",
    "    X = torch.from_numpy(latents[batch_idxs]).to(device, non_blocking=True)\n",
    "    X = X.transpose(1, 2)\n",
    "\n",
    "    X_emb, X_ctx = model(X)\n",
    "\n",
    "    batch_loss = model.cpc_loss(X_emb, X_ctx)\n",
    "\n",
    "    batch_loss.backward()\n",
    "    optimizer.step()\n",
    "\n",
    "    losses.append(batch_loss.item())\n",
    "    sys.stdout.write(f\"\\r{len(losses) / num_batches} - {np.mean(losses[-100:]):.3f}\")"
   ]
  },
  {
   "cell_type": "code",
   "execution_count": null,
   "metadata": {},
   "outputs": [],
   "source": [
    "plt.plot(pd.Series(losses).rolling(128).mean())\n",
    "plt.savefig(\"/storage/mi/jennyonline/images/cpc_loss.png\")"
   ]
  },
  {
   "cell_type": "code",
   "execution_count": null,
   "metadata": {},
   "outputs": [],
   "source": [
    "torch.save((model, optimizer, losses), model_path)"
   ]
  }
 ],
 "metadata": {
  "kernelspec": {
   "display_name": "Python 3",
   "language": "python",
   "name": "python3"
  },
  "language_info": {
   "codemirror_mode": {
    "name": "ipython",
    "version": 3
   },
   "file_extension": ".py",
   "mimetype": "text/x-python",
   "name": "python",
   "nbconvert_exporter": "python",
   "pygments_lexer": "ipython3",
   "version": "3.8.2"
  }
 },
 "nbformat": 4,
 "nbformat_minor": 4
}
